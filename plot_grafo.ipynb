{
 "cells": [
  {
   "cell_type": "code",
   "execution_count": 8,
   "metadata": {},
   "outputs": [],
   "source": [
    "import matplotlib.pyplot as plt\n",
    "import networkx as nx"
   ]
  },
  {
   "cell_type": "code",
   "execution_count": 9,
   "metadata": {},
   "outputs": [],
   "source": [
    "def generateGraphPlot(graphFilename, source = None):\n",
    "    G = nx.DiGraph()\n",
    "    \n",
    "    graphTxt = open(graphFilename, \"r\")\n",
    "\n",
    "    rowNo = 0\n",
    "    line = graphTxt.readline()\n",
    "    while (line != ''):\n",
    "        row = line.split(\"\\n\")[0].split(\" \")\n",
    "\n",
    "        for i, weight in enumerate(row):\n",
    "            if weight != \"0\":\n",
    "\n",
    "                u = i\n",
    "                v = rowNo\n",
    "\n",
    "                G.add_edge(u, v, weight = int(weight))\n",
    "\n",
    "\n",
    "        line = graphTxt.readline()\n",
    "\n",
    "        rowNo+= 1\n",
    "\n",
    "    pos = nx.spring_layout(G)\n",
    "\n",
    "    color_map = []\n",
    "\n",
    "    if (source == None):\n",
    "        for node in G:\n",
    "            color_map.append('blue')\n",
    "    else:\n",
    "\n",
    "        for node in G:\n",
    "            if node == source:\n",
    "                color_map.append('red')\n",
    "            else: \n",
    "                color_map.append('blue')\n",
    "            \n",
    "\n",
    "    nx.draw(G, pos, with_labels=True, node_color = color_map)\n",
    "\n",
    "    labels = nx.get_edge_attributes(G, 'weight')\n",
    "    nx.draw_networkx_edge_labels(G, pos, edge_labels=labels)\n",
    "    plt.show()"
   ]
  },
  {
   "cell_type": "code",
   "execution_count": 10,
   "metadata": {},
   "outputs": [
    {
     "ename": "ValueError",
     "evalue": "invalid literal for int() with base 10: '21Â\\xa05Â\\xa03Â\\xa012Â\\xa033Â\\xa07Â\\xa00'",
     "output_type": "error",
     "traceback": [
      "\u001b[1;31m---------------------------------------------------------------------------\u001b[0m",
      "\u001b[1;31mValueError\u001b[0m                                Traceback (most recent call last)",
      "Cell \u001b[1;32mIn[10], line 46\u001b[0m\n\u001b[0;32m     43\u001b[0m     nx\u001b[38;5;241m.\u001b[39mdraw_networkx_edge_labels(G, pos, edge_labels\u001b[38;5;241m=\u001b[39mlabels)\n\u001b[0;32m     44\u001b[0m     plt\u001b[38;5;241m.\u001b[39mshow()\n\u001b[1;32m---> 46\u001b[0m \u001b[43mgenerateGraphPlot\u001b[49m\u001b[43m(\u001b[49m\u001b[38;5;124;43m\"\u001b[39;49m\u001b[38;5;124;43minput.txt\u001b[39;49m\u001b[38;5;124;43m\"\u001b[39;49m\u001b[43m)\u001b[49m\n",
      "Cell \u001b[1;32mIn[10], line 17\u001b[0m, in \u001b[0;36mgenerateGraphPlot\u001b[1;34m(graphFilename, source)\u001b[0m\n\u001b[0;32m     14\u001b[0m         u \u001b[38;5;241m=\u001b[39m rowNo\n\u001b[0;32m     15\u001b[0m         v \u001b[38;5;241m=\u001b[39m i\n\u001b[1;32m---> 17\u001b[0m         G\u001b[38;5;241m.\u001b[39madd_edge(u, v, weight \u001b[38;5;241m=\u001b[39m \u001b[38;5;28;43mint\u001b[39;49m\u001b[43m(\u001b[49m\u001b[43mweight\u001b[49m\u001b[43m)\u001b[49m)\n\u001b[0;32m     20\u001b[0m line \u001b[38;5;241m=\u001b[39m graphTxt\u001b[38;5;241m.\u001b[39mreadline()\n\u001b[0;32m     22\u001b[0m rowNo\u001b[38;5;241m+\u001b[39m\u001b[38;5;241m=\u001b[39m \u001b[38;5;241m1\u001b[39m\n",
      "\u001b[1;31mValueError\u001b[0m: invalid literal for int() with base 10: '21Â\\xa05Â\\xa03Â\\xa012Â\\xa033Â\\xa07Â\\xa00'"
     ]
    }
   ],
   "source": [
    "def generateGraphPlot(graphFilename, source = None):\n",
    "    G = nx.DiGraph()\n",
    "    \n",
    "    graphTxt = open(graphFilename, \"r\")\n",
    "\n",
    "    rowNo = 0\n",
    "    line = graphTxt.readline()\n",
    "    while (line != ''):\n",
    "        row = line.split(\"\\n\")[0].split(\" \")\n",
    "\n",
    "        for i, weight in enumerate(row):\n",
    "            if weight != \"0\" and weight != \"\":\n",
    "\n",
    "                u = rowNo\n",
    "                v = i\n",
    "\n",
    "                G.add_edge(u, v, weight = int(weight))\n",
    "\n",
    "\n",
    "        line = graphTxt.readline()\n",
    "\n",
    "        rowNo+= 1\n",
    "\n",
    "    pos = nx.spring_layout(G)\n",
    "\n",
    "    color_map = []\n",
    "\n",
    "    if (source == None):\n",
    "        for node in G:\n",
    "            color_map.append('blue')\n",
    "    else:\n",
    "\n",
    "        for node in G:\n",
    "            if node == source:\n",
    "                color_map.append('red')\n",
    "            else: \n",
    "                color_map.append('blue')\n",
    "            \n",
    "\n",
    "    nx.draw(G, pos, with_labels=True, node_color = color_map)\n",
    "\n",
    "    labels = nx.get_edge_attributes(G, 'weight')\n",
    "    nx.draw_networkx_edge_labels(G, pos, edge_labels=labels)\n",
    "    plt.show()\n",
    "\n",
    "generateGraphPlot(\"input.txt\")\n"
   ]
  },
  {
   "cell_type": "code",
   "execution_count": null,
   "metadata": {},
   "outputs": [
    {
     "data": {
      "image/png": "[encoded data removed]",
      "text/plain": [
       "<Figure size 640x480 with 1 Axes>"
      ]
     },
     "metadata": {},
     "output_type": "display_data"
    }
   ],
   "source": [
    "generateGraphPlot(\"MST.txt\")"
   ]
  }
 ],
 "metadata": {
  "kernelspec": {
   "display_name": "Python 3",
   "language": "python",
   "name": "python3"
  },
  "language_info": {
   "codemirror_mode": {
    "name": "ipython",
    "version": 3
   },
   "file_extension": ".py",
   "mimetype": "text/x-python",
   "name": "python",
   "nbconvert_exporter": "python",
   "pygments_lexer": "ipython3",
   "version": "3.11.5"
  }
 },
 "nbformat": 4,
 "nbformat_minor": 2
}
